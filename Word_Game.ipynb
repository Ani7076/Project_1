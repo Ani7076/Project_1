{
  "nbformat": 4,
  "nbformat_minor": 0,
  "metadata": {
    "colab": {
      "name": "Word Game",
      "provenance": [],
      "collapsed_sections": [],
      "include_colab_link": true
    },
    "kernelspec": {
      "display_name": "Python 3",
      "name": "python3"
    }
  },
  "cells": [
    {
      "cell_type": "markdown",
      "metadata": {
        "id": "view-in-github",
        "colab_type": "text"
      },
      "source": [
        "<a href=\"https://colab.research.google.com/github/Ani7076/Project_1/blob/main/Word_Game.ipynb\" target=\"_parent\"><img src=\"https://colab.research.google.com/assets/colab-badge.svg\" alt=\"Open In Colab\"/></a>"
      ]
    },
    {
      "cell_type": "code",
      "metadata": {
        "id": "KWIaF6miS3xt"
      },
      "source": [
        "import random"
      ],
      "execution_count": null,
      "outputs": []
    },
    {
      "cell_type": "code",
      "metadata": {
        "id": "cB5OXzpTS5WL"
      },
      "source": [
        "words=['Apple' , 'Oracle', 'Microsoft' , 'amazon' , 'cat' ,  'dog']\n"
      ],
      "execution_count": null,
      "outputs": []
    },
    {
      "cell_type": "code",
      "metadata": {
        "id": "iiTA6ZAdTPan"
      },
      "source": [
        "guessed_word=random.choice(words)\n",
        "guessed_word"
      ],
      "execution_count": null,
      "outputs": []
    },
    {
      "cell_type": "code",
      "metadata": {
        "id": "e6ae6fZ-TX2F"
      },
      "source": [
        "hint=guessed_word[0] + guessed_word[-1]\n",
        "hint"
      ],
      "execution_count": null,
      "outputs": []
    },
    {
      "cell_type": "code",
      "metadata": {
        "id": "BI38DyufTjpU"
      },
      "source": [
        "store_g1 =[]\n",
        "try_p=6\n",
        "a=input(\"Enter Your Name : \")\n",
        "print(\"!! WELCOME TO THE GAME  \",a,\"  !!\")\n",
        "print(\"You have 6 attempts :\")\n",
        "for guess in range(try_p):\n",
        "  while True:\n",
        "    letter=input(\"Guess The  Letter :\")\n",
        "    if len(letter) == 1:\n",
        "      break\n",
        "    else:\n",
        "      print(\" OOPS !!!!  Please Try Again ...\")\n",
        "  if letter in guessed_word:\n",
        "    print(\" That's Correct !!! Good Job...\")\n",
        "    store_g1.append(letter)\n",
        "  else:\n",
        "    print(\"SORRY!!! Wrong Answer ...\")\n",
        "  if guess == 3:\n",
        "    print()\n",
        "    clue_request=input(\" Want a CLUE  mate ???\")\n",
        "    if clue_request.lower().startswith('y'\n",
        "    ):\n",
        "      print()\n",
        "      print(\" CLUE !!! The First letter of the word is : \" , hint)\n",
        "    else:\n",
        "      print(\"Never Mind !!! Go Ahead...... \")\n",
        "print()\n",
        "print(\"Now , Let's see what you have guessed so far !!!!!!!!! \")\n",
        "print(\" You have guessed : \",len(store_g1),\" letters correctly....\")\n",
        "print(\" They are : \" ,store_g1 )\n",
        "word_guess=input(\"Now , Guess the whole word : \")\n",
        "if word_guess.lower == guessed_word:\n",
        "  print(\" !!!!! CONGRATULATIONS !!!!! WELL DONE.....\")\n",
        "else:\n",
        "  print(\" SORRY...... The Answer is : \", guessed_word)\n",
        "print()\n",
        "print(\"Press Enter to EXIT\")"
      ],
      "execution_count": null,
      "outputs": []
    }
  ]
}